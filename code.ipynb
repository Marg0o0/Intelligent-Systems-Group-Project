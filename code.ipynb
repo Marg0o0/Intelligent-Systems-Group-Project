{
 "cells": [
  {
   "cell_type": "code",
   "execution_count": 12,
   "id": "aec53e44",
   "metadata": {},
   "outputs": [],
   "source": [
    "import numpy as np\n",
    "from sklearn import datasets\n",
    "import pandas as pd\n"
   ]
  },
  {
   "cell_type": "code",
   "execution_count": null,
   "id": "3d9e4643",
   "metadata": {},
   "outputs": [
    {
     "name": "stdout",
     "output_type": "stream",
     "text": [
      "   Unnamed: 0                track_id  ... time_signature track_genre\n",
      "0           0  5SuOikwiRyPMVoIQDJUgSV  ...              4    acoustic\n",
      "1           1  4qPNDBW1i3p13qLCt0Ki3A  ...              4    acoustic\n",
      "2           2  1iJBSr7s7jYXzM8EGcbK5b  ...              4    acoustic\n",
      "3           3  6lfxq3CG4xtTiEg7opyCyx  ...              3    acoustic\n",
      "4           4  5vjLSffimiIP26QG5WcN2K  ...              4    acoustic\n",
      "\n",
      "[5 rows x 21 columns]\n"
     ]
    }
   ],
   "source": [
    "\n",
    "music = pd.read_csv('dataset.csv')\n",
    "print(music.head())\n",
    "\n"
   ]
  }
 ],
 "metadata": {
  "kernelspec": {
   "display_name": "Python 3",
   "language": "python",
   "name": "python3"
  },
  "language_info": {
   "codemirror_mode": {
    "name": "ipython",
    "version": 3
   },
   "file_extension": ".py",
   "mimetype": "text/x-python",
   "name": "python",
   "nbconvert_exporter": "python",
   "pygments_lexer": "ipython3",
   "version": "3.13.1"
  }
 },
 "nbformat": 4,
 "nbformat_minor": 5
}
