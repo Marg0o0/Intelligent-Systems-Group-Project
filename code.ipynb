{
 "cells": [
  {
   "cell_type": "code",
   "execution_count": null,
   "id": "aec53e44",
   "metadata": {},
   "outputs": [],
   "source": [
    "import numpy as np\n",
    "import skfuzzy as fuzz\n",
    "import pandas as pd\n",
    "import torch\n",
    "from sklearn import datasets\n",
    "from sklearn.model_selection import train_test_split\n",
    "\n",
    "\n"
   ]
  },
  {
   "cell_type": "code",
   "execution_count": 65,
   "id": "3d9e4643",
   "metadata": {},
   "outputs": [
    {
     "name": "stdout",
     "output_type": "stream",
     "text": [
      "                 track_id                 artists  ... time_signature track_genre\n",
      "0  5SuOikwiRyPMVoIQDJUgSV             Gen Hoshino  ...              4    acoustic\n",
      "1  4qPNDBW1i3p13qLCt0Ki3A            Ben Woodward  ...              4    acoustic\n",
      "2  1iJBSr7s7jYXzM8EGcbK5b  Ingrid Michaelson;ZAYN  ...              4    acoustic\n",
      "3  6lfxq3CG4xtTiEg7opyCyx            Kina Grannis  ...              3    acoustic\n",
      "4  5vjLSffimiIP26QG5WcN2K        Chord Overstreet  ...              4    acoustic\n",
      "\n",
      "[5 rows x 20 columns]\n"
     ]
    },
    {
     "data": {
      "text/plain": [
       "(114000, 20)"
      ]
     },
     "execution_count": 65,
     "metadata": {},
     "output_type": "execute_result"
    }
   ],
   "source": [
    "#Acesso ao dataset\n",
    "music = pd.read_csv('dataset.csv', index_col=0) #chama o ficheiro e remove coluna desnecessária (index_col)\n",
    "\n",
    "#Garantir que o acesso foi bem sucedido (faz print das primeiras 5 linhas do dataset)\n",
    "print(music.head())\n",
    "music.shape"
   ]
  },
  {
   "cell_type": "markdown",
   "id": "32ebd983",
   "metadata": {},
   "source": [
    "meti só para teste para garantir que funciona podemos tirar no final"
   ]
  },
  {
   "cell_type": "code",
   "execution_count": null,
   "id": "3a541e25",
   "metadata": {},
   "outputs": [
    {
     "name": "stdout",
     "output_type": "stream",
     "text": [
      "Antes da limpeza: 0 músicas duplicadas\n",
      "track_id            0\n",
      "artists             0\n",
      "album_name          0\n",
      "track_name          0\n",
      "popularity          0\n",
      "duration_ms         0\n",
      "explicit            0\n",
      "danceability        0\n",
      "energy              0\n",
      "key                 0\n",
      "loudness            0\n",
      "mode                0\n",
      "speechiness         0\n",
      "acousticness        0\n",
      "instrumentalness    0\n",
      "liveness            0\n",
      "valence             0\n",
      "tempo               0\n",
      "time_signature      0\n",
      "track_genre         0\n",
      "dtype: int64\n"
     ]
    }
   ],
   "source": [
    "##limpeza do dataset\n",
    "# Contar quantas linhas duplicadas existem (mesmo nome + mesmo artista)\n",
    "duplicadas_antes = music.duplicated(subset=[\"track_name\", \"artists\"]).sum()\n",
    "print(f\"Antes da limpeza: {duplicadas_antes} músicas duplicadas\")\n",
    "\n",
    "# Remover duplicados (mesmo nome e mesmo artista)\n",
    "music = music.drop_duplicates(subset=[\"track_name\", \"artists\"], keep=\"first\")\n",
    "\n",
    "#valores em falta por coluna\n",
    "print(music.isnull().sum()) \n",
    "music = music.dropna()  #por serem poucos\n"
   ]
  },
  {
   "cell_type": "code",
   "execution_count": null,
   "id": "1084acc3",
   "metadata": {},
   "outputs": [
    {
     "name": "stdout",
     "output_type": "stream",
     "text": [
      "[0.676 0.42 0.438 ... 0.629 0.587 0.526]\n",
      "['acoustic' 'acoustic' 'acoustic' ... 'world-music' 'world-music'\n",
      " 'world-music']\n",
      "[0.715 0.267 0.12 ... 0.743 0.413 0.708]\n",
      "[[0.676 0.461 1 ... 87.917 4 'acoustic']\n",
      " [0.42 0.166 1 ... 77.489 4 'acoustic']\n",
      " [0.438 0.359 0 ... 76.332 4 'acoustic']\n",
      " ...\n",
      " [0.629 0.329 0 ... 132.378 4 'world-music']\n",
      " [0.587 0.506 7 ... 135.96 4 'world-music']\n",
      " [0.526 0.487 1 ... 79.198 4 'world-music']]\n"
     ]
    },
    {
     "data": {
      "text/plain": [
       "(81344, 20)"
      ]
     },
     "execution_count": 74,
     "metadata": {},
     "output_type": "execute_result"
    }
   ],
   "source": [
    "#defenir as features\n",
    "f1 = music.values[:, 7]    #danceability\n",
    "f2 = music.values[:, 8]    #energy\n",
    "f3 = music.values[:, 9]    #key\n",
    "f4 = music.values[:, 10]   #loudness\n",
    "f5 = music.values[:, 11]   #mode\n",
    "f6 = music.values[:, 13]   #acousticness\n",
    "f7 = music.values[:, 17]   #tempo (bpm)\n",
    "f8 = music.values[:, 18]   #time_signature\n",
    "f9 = music['track_genre'].values   #track_genre\n",
    "y = music.values[:, 16]    #valence-target\n",
    "\n",
    "# matriz features\n",
    "x = music.values[:, [7, 8, 9, 10, 11, 13, 17, 18, 19]]\n",
    "#x = music[['danceability', 'energy', 'key',.....]]    \n",
    "\n",
    "print(f1)\n",
    "print(f9)\n",
    "print(y)\n",
    "print(x)\n",
    "music.shape"
   ]
  },
  {
   "cell_type": "code",
   "execution_count": null,
   "id": "1c21e9ca",
   "metadata": {},
   "outputs": [
    {
     "name": "stdout",
     "output_type": "stream",
     "text": [
      "Depois da limpeza: 0 músicas duplicadas\n"
     ]
    }
   ],
   "source": [
    "#verificaçaõ da limpeza\n",
    "duplicadas_depois = music.duplicated(subset=[\"track_name\", \"artists\"]).sum()\n",
    "print(f\"Depois da limpeza: {duplicadas_depois} músicas duplicadas\")\n"
   ]
  },
  {
   "cell_type": "code",
   "execution_count": null,
   "id": "1e18f9b5",
   "metadata": {},
   "outputs": [],
   "source": [
    "#train and test split\n",
    "test_size = 0.3\n",
    "xtr, xte, ytr, yte = train_test_split(x, y, test_size = test_size, random_state = 42)\n",
    "\n",
    "'-------------------------------------------------'\n",
    "#criar 3 conjuntos???? tipo treino, teste e validação no final, sendo esse aquele que o algoritmo nunca viu"
   ]
  }
 ],
 "metadata": {
  "kernelspec": {
   "display_name": "Python 3",
   "language": "python",
   "name": "python3"
  },
  "language_info": {
   "codemirror_mode": {
    "name": "ipython",
    "version": 3
   },
   "file_extension": ".py",
   "mimetype": "text/x-python",
   "name": "python",
   "nbconvert_exporter": "python",
   "pygments_lexer": "ipython3",
   "version": "3.13.1"
  }
 },
 "nbformat": 4,
 "nbformat_minor": 5
}
